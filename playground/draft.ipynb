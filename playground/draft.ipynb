{
 "cells": [
  {
   "cell_type": "code",
   "execution_count": 2,
   "metadata": {},
   "outputs": [],
   "source": [
    "import re\n",
    "import sys\n",
    "sys.path.append(\"../\")"
   ]
  },
  {
   "cell_type": "code",
   "execution_count": 3,
   "metadata": {},
   "outputs": [],
   "source": [
    "REPO_ID_REGEX = re.compile(\n",
    "    r\"\"\"\n",
    "    ^\n",
    "    (\\b[\\w\\-.]+\\b/)? # optional namespace (username or organization)\n",
    "    \\b               # starts with a word boundary\n",
    "    [\\w\\-.]{1,96}    # repo_name: alphanumeric + . _ -\n",
    "    \\b               # ends with a word boundary\n",
    "    $\n",
    "    \"\"\",\n",
    "    flags=re.VERBOSE,\n",
    ")\n",
    "\n"
   ]
  },
  {
   "cell_type": "code",
   "execution_count": 4,
   "metadata": {},
   "outputs": [
    {
     "name": "stdout",
     "output_type": "stream",
     "text": [
      "not working\n"
     ]
    }
   ],
   "source": [
    "repo_id = \"../benchmark/checkpoints/ImagenHub_Subject-Driven_IE\" #\"checkpoints/DreamBooth_Models/sa\" #/pink_sunglasses\"\n",
    "# repo_id = \"CompVis/ldm-text2im-large-256\"\n",
    "if not REPO_ID_REGEX.match(repo_id):\n",
    "    print(\"not working\")"
   ]
  },
  {
   "cell_type": "code",
   "execution_count": 5,
   "metadata": {},
   "outputs": [],
   "source": [
    "from huggingface_hub.utils import _validators\n",
    "\n",
    "_validators.validate_repo_id(\"CompVis/ldm-text2im-large-256\")"
   ]
  },
  {
   "cell_type": "code",
   "execution_count": 7,
   "metadata": {},
   "outputs": [],
   "source": [
    "# _validators.validate_repo_id(\"../benchmark/checkpoints/ImagenHub_Subject-Driven_IE/DreamBooth-Models/pink_sunglasses\")"
   ]
  },
  {
   "cell_type": "code",
   "execution_count": 8,
   "metadata": {},
   "outputs": [],
   "source": [
    "# from diffusers import StableDiffusionPipeline\n",
    "# import os\n",
    "\n",
    "# StableDiffusionPipeline.from_pretrained(\"../benchmark/checkpoints/ImagenHub_Subject-Driven_IE/DreamBooth-Models/pink_sunglasses\")"
   ]
  }
 ],
 "metadata": {
  "kernelspec": {
   "display_name": "Python 3",
   "language": "python",
   "name": "python3"
  },
  "language_info": {
   "codemirror_mode": {
    "name": "ipython",
    "version": 3
   },
   "file_extension": ".py",
   "mimetype": "text/x-python",
   "name": "python",
   "nbconvert_exporter": "python",
   "pygments_lexer": "ipython3",
   "version": "3.11.8"
  }
 },
 "nbformat": 4,
 "nbformat_minor": 2
}
