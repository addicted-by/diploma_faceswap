{
 "cells": [
  {
   "cell_type": "code",
   "execution_count": 10,
   "metadata": {},
   "outputs": [],
   "source": [
    "import torch\n",
    "\n",
    "# checkpoints_dir = \"checkpoints\"\n",
    "\n",
    "netArc_checkpoint = torch.load('./checkpoints/Model.pt', map_location=\"cpu\")"
   ]
  },
  {
   "cell_type": "code",
   "execution_count": 12,
   "metadata": {},
   "outputs": [
    {
     "ename": "KeyError",
     "evalue": "'optimizer'",
     "output_type": "error",
     "traceback": [
      "\u001b[1;31m---------------------------------------------------------------------------\u001b[0m",
      "\u001b[1;31mKeyError\u001b[0m                                  Traceback (most recent call last)",
      "\u001b[1;32m~\\AppData\\Local\\Temp\\ipykernel_27716\\3590130504.py\u001b[0m in \u001b[0;36m<module>\u001b[1;34m\u001b[0m\n\u001b[1;32m----> 1\u001b[1;33m \u001b[0mnetArc_checkpoint\u001b[0m\u001b[1;33m[\u001b[0m\u001b[1;34m'optimizer'\u001b[0m\u001b[1;33m]\u001b[0m\u001b[1;33m\u001b[0m\u001b[0m\n\u001b[0m",
      "\u001b[1;31mKeyError\u001b[0m: 'optimizer'"
     ]
    }
   ],
   "source": [
    "netArc_checkpoint['optimizer']"
   ]
  },
  {
   "cell_type": "code",
   "execution_count": 9,
   "metadata": {},
   "outputs": [],
   "source": [
    "netArc_checkpoint['optimizer'] = None\n",
    "\n",
    "torch.save(netArc_checkpoint, \"checkpoints/Arcface_compatible.tar\")"
   ]
  },
  {
   "cell_type": "code",
   "execution_count": 3,
   "metadata": {},
   "outputs": [
    {
     "data": {
      "text/plain": [
       "'1.13.1+cpu'"
      ]
     },
     "execution_count": 3,
     "metadata": {},
     "output_type": "execute_result"
    }
   ],
   "source": [
    "import torch\n",
    "\n",
    "torch.__version__"
   ]
  },
  {
   "cell_type": "code",
   "execution_count": 1,
   "metadata": {},
   "outputs": [],
   "source": [
    "import torch\n",
    "\n"
   ]
  },
  {
   "cell_type": "code",
   "execution_count": 19,
   "metadata": {},
   "outputs": [
    {
     "data": {
      "text/plain": [
       "torch.Size([64, 288])"
      ]
     },
     "execution_count": 19,
     "metadata": {},
     "output_type": "execute_result"
    }
   ],
   "source": [
    "conv_layer.weight.flatten(1).shape"
   ]
  },
  {
   "cell_type": "code",
   "execution_count": 17,
   "metadata": {},
   "outputs": [
    {
     "data": {
      "text/plain": [
       "torch.Size([64, 32, 3, 3])"
      ]
     },
     "execution_count": 17,
     "metadata": {},
     "output_type": "execute_result"
    }
   ],
   "source": [
    "(conv_layer.weight * torch.ones((64, 32, 3, 3))).shape"
   ]
  },
  {
   "cell_type": "code",
   "execution_count": 58,
   "metadata": {},
   "outputs": [],
   "source": [
    "input_example = torch.rand(16, 32, 64, 64)"
   ]
  },
  {
   "cell_type": "code",
   "execution_count": 60,
   "metadata": {},
   "outputs": [],
   "source": [
    "# conv_layer = torch.nn.Conv2d(in_channels=32, out_channels=64, kernel_size=3)\n",
    "# original_output = conv_layer(input_example)\n",
    "\n",
    "# conv1_layer = torch.nn.Conv2d(in_channels=32, out_channels=64, kernel_size=3)\n",
    "# conv2_layer = torch.nn.Conv2d(in_channels=32, out_channels=64, kernel_size=3)\n",
    "\n",
    "# conv1_layer.weight.data = conv_layer.weight.data[:32, ...]\n",
    "# conv2_layer.weight.data = conv_layer.weight.data[32:, ...]\n",
    "\n"
   ]
  },
  {
   "cell_type": "code",
   "execution_count": 46,
   "metadata": {},
   "outputs": [
    {
     "data": {
      "text/plain": [
       "torch.Size([32, 32, 3, 3])"
      ]
     },
     "execution_count": 46,
     "metadata": {},
     "output_type": "execute_result"
    }
   ],
   "source": [
    "conv1_layer = torch.nn.Conv2d(in_channels=32, out_channels=64, kernel_size=3)\n",
    "original_weights1 = conv1_layer.weight\n",
    "\n",
    "conv2_layer = torch.nn.Conv2d(in_channels=64, out_channels=16, kernel_size=5)\n",
    "original_weights2 = conv2_layer.weight\n",
    "\n",
    "new_size = 32\n",
    "alpha_weights1 = torch.nn.Parameter(torch.ones(64, new_size, 1, 1))\n",
    "new_filters1 = torch.einsum('ijkl,imkl->mjkl', (original_weights1, alpha_weights1))\n",
    "new_filters1.shape"
   ]
  },
  {
   "cell_type": "code",
   "execution_count": 61,
   "metadata": {},
   "outputs": [
    {
     "data": {
      "application/vnd.jupyter.widget-view+json": {
       "model_id": "6fabeed876cd4b5788f5afd94b3e84fe",
       "version_major": 2,
       "version_minor": 0
      },
      "text/plain": [
       "Dropdown(description='Working Type:', options=('default', 'integral'), value='default')"
      ]
     },
     "metadata": {},
     "output_type": "display_data"
    },
    {
     "data": {
      "application/vnd.jupyter.widget-view+json": {
       "model_id": "2a3e90035841449e9859e82258a04c1d",
       "version_major": 2,
       "version_minor": 0
      },
      "text/plain": [
       "IntSlider(value=0, description='A:')"
      ]
     },
     "metadata": {},
     "output_type": "display_data"
    },
    {
     "data": {
      "application/vnd.jupyter.widget-view+json": {
       "model_id": "54a4bacd44524d5381be387d21ffdb9b",
       "version_major": 2,
       "version_minor": 0
      },
      "text/plain": [
       "FloatSlider(value=0.0, description='B:', layout=Layout(display='none'))"
      ]
     },
     "metadata": {},
     "output_type": "display_data"
    },
    {
     "data": {
      "application/vnd.jupyter.widget-view+json": {
       "model_id": "7a3f53305eb24ccab16543ba3ad1739e",
       "version_major": 2,
       "version_minor": 0
      },
      "text/plain": [
       "Output()"
      ]
     },
     "metadata": {},
     "output_type": "display_data"
    }
   ],
   "source": [
    "import ipywidgets as widgets\n",
    "from IPython.display import display, clear_output\n",
    "\n",
    "def prune_interacitive(working_type, **kwargs):\n",
    "    # Your function that does something based on working_type and other kwargs\n",
    "    print(f\"Working Type: {working_type}, Other kwargs: {kwargs}\")\n",
    "\n",
    "# Widgets definition\n",
    "working_type_widget = widgets.Dropdown(options=['default', 'integral'], description=\"Working Type:\")\n",
    "# Assuming other widgets are defined in these dictionaries:\n",
    "dict_for_interact = {'widget_a': widgets.IntSlider(description='A:')}\n",
    "dict_for_interact_inn = {'widget_b': widgets.FloatSlider(description='B:')}\n",
    "\n",
    "# Interactive widget without direct display\n",
    "interac = widgets.interactive(prune_interacitive, working_type=working_type_widget, **dict_for_interact, **dict_for_interact_inn)\n",
    "\n",
    "# Initial display based on current \"working_type_widget\" value\n",
    "def update_widgets(change):\n",
    "    if change['new'] == 'integral':\n",
    "        for widget in dict_for_interact.values():\n",
    "            widget.layout.display = 'none'  # Hide\n",
    "        for widget in dict_for_interact_inn.values():\n",
    "            widget.layout.display = None  # Show by resetting to default\n",
    "    else:\n",
    "        for widget in dict_for_interact.values():\n",
    "            widget.layout.display = None  # Show\n",
    "        for widget in dict_for_interact_inn.values():\n",
    "            widget.layout.display = 'none'  # Hide\n",
    "\n",
    "# Set initial visibility\n",
    "update_widgets({'new': working_type_widget.value})\n",
    "\n",
    "# Observe changes in \"working_type_widget\" to update other widgets visibility\n",
    "working_type_widget.observe(update_widgets, names='value')\n",
    "\n",
    "# Display UI elements\n",
    "display(working_type_widget)  # Display combo-box always\n",
    "# Since we're manually controlling visibility, we need to display all widgets explicitly\n",
    "for widget in dict_for_interact.values():\n",
    "    display(widget)\n",
    "for widget in dict_for_interact_inn.values():\n",
    "    display(widget)\n",
    "display(interac.children[-1])  # Display the button\n",
    "\n"
   ]
  },
  {
   "cell_type": "code",
   "execution_count": 73,
   "metadata": {},
   "outputs": [
    {
     "data": {
      "application/vnd.jupyter.widget-view+json": {
       "model_id": "44fc8c931aab44c98c400d010e50eafb",
       "version_major": 2,
       "version_minor": 0
      },
      "text/plain": [
       "VBox(children=(Dropdown(description='Working Type:', layout=Layout(width='100%'), options=('default', 'integra…"
      ]
     },
     "metadata": {},
     "output_type": "display_data"
    }
   ],
   "source": [
    "import ipywidgets as widgets\n",
    "from IPython.display import display, clear_output\n",
    "\n",
    "def prune_interactive(working_type, **kwargs):\n",
    "    # Function logic that does something based on the working_type and other kwargs\n",
    "    print(f\"Working Type: {working_type}, Other kwargs: {kwargs}\")\n",
    "    clear_output()\n",
    "    print(f\"Working Type: {working_type}, Other kwargs: {kwargs}\")\n",
    "\n",
    "# Define a common wide layout for widgets\n",
    "wide_layout = widgets.Layout(width='100%')  # You can adjust the width as per your requirement\n",
    "\n",
    "# Define interactive widgets with the wide layout\n",
    "working_type_widget = widgets.Dropdown(options=['default', 'integral'], description=\"Working Type:\", layout=wide_layout)\n",
    "dict_for_interact = {'widget_a': widgets.IntSlider(description='A:', layout=wide_layout)}\n",
    "dict_for_interact_inn = {'widget_b': widgets.FloatSlider(description='B:', layout=wide_layout)}\n",
    "\n",
    "# Create a button for manual trigger with the wide layout\n",
    "execute_button = widgets.Button(description=\"Execute\", layout=wide_layout)\n",
    "\n",
    "# Creating an output widget, which does not typically need a layout adjustment\n",
    "output = widgets.Output()\n",
    "\n",
    "vbox = widgets.VBox([working_type_widget], layout=widgets.Layout(width='100%'))  # Ensuring the VBox itself is wide\n",
    "\n",
    "def update_widgets_ui(*args):\n",
    "    new_children = [working_type_widget]  # Always include the dropdown\n",
    "    if working_type_widget.value == 'integral':\n",
    "        new_children += list(dict_for_interact_inn.values())\n",
    "    else:\n",
    "        new_children += list(dict_for_interact.values())\n",
    "    new_children.append(execute_button)  # Add the execute button to the new children\n",
    "    new_children.append(output)  # Ensure the output widget is always last\n",
    "    vbox.children = new_children\n",
    "\n",
    "def on_execute_button_clicked(b):\n",
    "    with output:\n",
    "        clear_output(wait=True)\n",
    "        # Extract non-'Output' widget values as kwargs\n",
    "        kwargs = {}\n",
    "        for widget in vbox.children:\n",
    "            if hasattr(widget, 'value') and not isinstance(widget, (widgets.Output, widgets.Button)):\n",
    "                kwargs[widget.description.strip(':')] = widget.value\n",
    "        # Call the function with current widget values\n",
    "        prune_interactive(working_type=working_type_widget.value, **kwargs)\n",
    "\n",
    "execute_button.on_click(on_execute_button_clicked)\n",
    "update_widgets_ui()  # Initial UI update\n",
    "working_type_widget.observe(update_widgets_ui, 'value')  # Observe changes in the dropdown\n",
    "\n",
    "display(vbox)\n"
   ]
  },
  {
   "cell_type": "code",
   "execution_count": 56,
   "metadata": {},
   "outputs": [
    {
     "name": "stdout",
     "output_type": "stream",
     "text": [
      "torch.Size([16, 64, 5, 5])\n"
     ]
    },
    {
     "ename": "RuntimeError",
     "evalue": "einsum(): subscript i has size 32 for operand 1 which does not broadcast with previously seen size 16",
     "output_type": "error",
     "traceback": [
      "\u001b[1;31m---------------------------------------------------------------------------\u001b[0m",
      "\u001b[1;31mRuntimeError\u001b[0m                              Traceback (most recent call last)",
      "Cell \u001b[1;32mIn[56], line 6\u001b[0m\n\u001b[0;32m      3\u001b[0m conv2_layer \u001b[38;5;241m=\u001b[39m torch\u001b[38;5;241m.\u001b[39mnn\u001b[38;5;241m.\u001b[39mConv2d(in_channels\u001b[38;5;241m=\u001b[39m\u001b[38;5;241m64\u001b[39m, out_channels\u001b[38;5;241m=\u001b[39m\u001b[38;5;241m16\u001b[39m, kernel_size\u001b[38;5;241m=\u001b[39m\u001b[38;5;241m5\u001b[39m)\n\u001b[0;32m      4\u001b[0m \u001b[38;5;28mprint\u001b[39m(conv2_layer\u001b[38;5;241m.\u001b[39mweight\u001b[38;5;241m.\u001b[39mshape)\n\u001b[1;32m----> 6\u001b[0m \u001b[43mtorch\u001b[49m\u001b[38;5;241;43m.\u001b[39;49m\u001b[43meinsum\u001b[49m\u001b[43m(\u001b[49m\u001b[38;5;124;43m'\u001b[39;49m\u001b[38;5;124;43mijkl,imkl->jmkl\u001b[39;49m\u001b[38;5;124;43m'\u001b[39;49m\u001b[43m,\u001b[49m\u001b[43m \u001b[49m\u001b[43m(\u001b[49m\u001b[43moriginal_weights2\u001b[49m\u001b[43m,\u001b[49m\u001b[43m \u001b[49m\u001b[43malpha_weights2\u001b[49m\u001b[43m)\u001b[49m\u001b[43m)\u001b[49m\u001b[38;5;241m.\u001b[39mshape\n",
      "File \u001b[1;32m~\\AppData\\Local\\Packages\\PythonSoftwareFoundation.Python.3.11_qbz5n2kfra8p0\\LocalCache\\local-packages\\Python311\\site-packages\\torch\\functional.py:372\u001b[0m, in \u001b[0;36meinsum\u001b[1;34m(*args)\u001b[0m\n\u001b[0;32m    369\u001b[0m     _operands \u001b[38;5;241m=\u001b[39m operands[\u001b[38;5;241m0\u001b[39m]\n\u001b[0;32m    370\u001b[0m     \u001b[38;5;66;03m# recurse incase operands contains value that has torch function\u001b[39;00m\n\u001b[0;32m    371\u001b[0m     \u001b[38;5;66;03m# in the original implementation this line is omitted\u001b[39;00m\n\u001b[1;32m--> 372\u001b[0m     \u001b[38;5;28;01mreturn\u001b[39;00m \u001b[43meinsum\u001b[49m\u001b[43m(\u001b[49m\u001b[43mequation\u001b[49m\u001b[43m,\u001b[49m\u001b[43m \u001b[49m\u001b[38;5;241;43m*\u001b[39;49m\u001b[43m_operands\u001b[49m\u001b[43m)\u001b[49m\n\u001b[0;32m    374\u001b[0m \u001b[38;5;28;01mif\u001b[39;00m \u001b[38;5;28mlen\u001b[39m(operands) \u001b[38;5;241m<\u001b[39m\u001b[38;5;241m=\u001b[39m \u001b[38;5;241m2\u001b[39m \u001b[38;5;129;01mor\u001b[39;00m \u001b[38;5;129;01mnot\u001b[39;00m opt_einsum\u001b[38;5;241m.\u001b[39menabled:\n\u001b[0;32m    375\u001b[0m     \u001b[38;5;66;03m# the path for contracting 0 or 1 time(s) is already optimized\u001b[39;00m\n\u001b[0;32m    376\u001b[0m     \u001b[38;5;66;03m# or the user has disabled using opt_einsum\u001b[39;00m\n\u001b[0;32m    377\u001b[0m     \u001b[38;5;28;01mreturn\u001b[39;00m _VF\u001b[38;5;241m.\u001b[39meinsum(equation, operands)  \u001b[38;5;66;03m# type: ignore[attr-defined]\u001b[39;00m\n",
      "File \u001b[1;32m~\\AppData\\Local\\Packages\\PythonSoftwareFoundation.Python.3.11_qbz5n2kfra8p0\\LocalCache\\local-packages\\Python311\\site-packages\\torch\\functional.py:377\u001b[0m, in \u001b[0;36meinsum\u001b[1;34m(*args)\u001b[0m\n\u001b[0;32m    372\u001b[0m     \u001b[38;5;28;01mreturn\u001b[39;00m einsum(equation, \u001b[38;5;241m*\u001b[39m_operands)\n\u001b[0;32m    374\u001b[0m \u001b[38;5;28;01mif\u001b[39;00m \u001b[38;5;28mlen\u001b[39m(operands) \u001b[38;5;241m<\u001b[39m\u001b[38;5;241m=\u001b[39m \u001b[38;5;241m2\u001b[39m \u001b[38;5;129;01mor\u001b[39;00m \u001b[38;5;129;01mnot\u001b[39;00m opt_einsum\u001b[38;5;241m.\u001b[39menabled:\n\u001b[0;32m    375\u001b[0m     \u001b[38;5;66;03m# the path for contracting 0 or 1 time(s) is already optimized\u001b[39;00m\n\u001b[0;32m    376\u001b[0m     \u001b[38;5;66;03m# or the user has disabled using opt_einsum\u001b[39;00m\n\u001b[1;32m--> 377\u001b[0m     \u001b[38;5;28;01mreturn\u001b[39;00m \u001b[43m_VF\u001b[49m\u001b[38;5;241;43m.\u001b[39;49m\u001b[43meinsum\u001b[49m\u001b[43m(\u001b[49m\u001b[43mequation\u001b[49m\u001b[43m,\u001b[49m\u001b[43m \u001b[49m\u001b[43moperands\u001b[49m\u001b[43m)\u001b[49m  \u001b[38;5;66;03m# type: ignore[attr-defined]\u001b[39;00m\n\u001b[0;32m    379\u001b[0m path \u001b[38;5;241m=\u001b[39m \u001b[38;5;28;01mNone\u001b[39;00m\n\u001b[0;32m    380\u001b[0m \u001b[38;5;28;01mif\u001b[39;00m opt_einsum\u001b[38;5;241m.\u001b[39mis_available():\n",
      "\u001b[1;31mRuntimeError\u001b[0m: einsum(): subscript i has size 32 for operand 1 which does not broadcast with previously seen size 16"
     ]
    }
   ],
   "source": [
    "alpha_weights2 = torch.nn.Parameter(torch.ones(new_size, 16, 1, 1))\n",
    "\n",
    "conv2_layer = torch.nn.Conv2d(in_channels=64, out_channels=16, kernel_size=5)\n",
    "print(conv2_layer.weight.shape)\n",
    "\n",
    "torch.einsum('ijkl,jmkl->mikl', (original_weights2, alpha_weights2)).shape"
   ]
  }
 ],
 "metadata": {
  "kernelspec": {
   "display_name": "Python 3",
   "language": "python",
   "name": "python3"
  },
  "language_info": {
   "codemirror_mode": {
    "name": "ipython",
    "version": 3
   },
   "file_extension": ".py",
   "mimetype": "text/x-python",
   "name": "python",
   "nbconvert_exporter": "python",
   "pygments_lexer": "ipython3",
   "version": "3.11.8"
  }
 },
 "nbformat": 4,
 "nbformat_minor": 2
}
